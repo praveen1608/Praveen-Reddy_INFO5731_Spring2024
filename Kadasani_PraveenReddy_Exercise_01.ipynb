{
  "cells": [
    {
      "cell_type": "markdown",
      "metadata": {
        "id": "view-in-github",
        "colab_type": "text"
      },
      "source": [
        "<a href=\"https://colab.research.google.com/github/praveen1608/Praveen-Reddy_INFO5731_Spring2024/blob/main/Kadasani_PraveenReddy_Exercise_01.ipynb\" target=\"_parent\"><img src=\"https://colab.research.google.com/assets/colab-badge.svg\" alt=\"Open In Colab\"/></a>"
      ]
    },
    {
      "cell_type": "markdown",
      "metadata": {
        "id": "DymRJbxDBCnf"
      },
      "source": [
        "# **This first In-class-exercise cover a variety of fundamental concepts in Python and are designed to help individuals improve their coding skills and problem-solving abilities.**\n",
        "\n",
        "The submission is due on 01/31/2024 11:59 PM. This submission is worth 40 points in total.\n"
      ]
    },
    {
      "cell_type": "markdown",
      "source": [
        "(1) Write a Python program that  prompts the user to input the length and width of a rectangle, and then calculates and displays the area of the rectangle."
      ],
      "metadata": {
        "id": "FBKvD6O_TY6e"
      }
    },
    {
      "cell_type": "code",
      "source": [
        "# write your answer here\n",
        "\n",
        "def rectangle_area(length, width):\n",
        "\n",
        "    return length * width\n",
        "\n",
        "def main():\n",
        "    try:\n",
        "        length = float(input(\"Enter the length of the rectangle: \"))\n",
        "        width = float(input(\"Enter the width of the rectangle: \"))\n",
        "\n",
        "        area = rectangle_area(length, width)\n",
        "\n",
        "        print(f\"Area of the rectangle is: {area}\")\n",
        "\n",
        "    except:\n",
        "        print(\"Enter valid numerical values for length and width\")\n",
        "\n",
        "if __name__ == \"__main__\":\n",
        "    main()\n",
        "\n"
      ],
      "metadata": {
        "id": "cikVKDXdTbzE",
        "colab": {
          "base_uri": "https://localhost:8080/"
        },
        "outputId": "d538b493-fdec-4cee-a098-e74eff8abd76"
      },
      "execution_count": 69,
      "outputs": [
        {
          "output_type": "stream",
          "name": "stdout",
          "text": [
            "Enter the length of the rectangle: 7\n",
            "Enter the width of the rectangle: 8\n",
            "Area of the rectangle is: 56.0\n"
          ]
        }
      ]
    },
    {
      "cell_type": "markdown",
      "source": [
        "(2) Create a Python program that interactively takes two numerical inputs from the user and swaps their values without utilizing an extra variable."
      ],
      "metadata": {
        "id": "E9RqrlwdTfvl"
      }
    },
    {
      "cell_type": "code",
      "source": [
        "# write your answer here\n",
        "def swap_numbers():\n",
        "  try:\n",
        "    i = float(input(\"Enter the first number: \"))\n",
        "    j = float(input(\"Enter the second number: \"))\n",
        "\n",
        "    # Displaying the entered numbers\n",
        "    print(\"\\nEntered numbers are: \")\n",
        "    print(\"First Number: \", i)\n",
        "    print(\"Second Number: \", j)\n",
        "\n",
        "    #swaping the numbers\n",
        "    i = i + j\n",
        "    j = i - j\n",
        "    i = i - j\n",
        "\n",
        "   # now displaying the swapped numbers\n",
        "    print(\"\\nNumbers after swapping: \")\n",
        "    print(\"First Number: \", i)\n",
        "    print(\"Second Number: \", j)\n",
        "\n",
        "# if the user enter non numerical values\n",
        "  except:\n",
        "    print(\"Error: Please enter Numerical values\")\n",
        "\n",
        "if __name__ == \"__main__\":\n",
        "  swap_numbers()\n"
      ],
      "metadata": {
        "id": "4XvRknixTh1g",
        "colab": {
          "base_uri": "https://localhost:8080/"
        },
        "outputId": "05442bfe-519a-40c1-f5c1-f6950fe2576f"
      },
      "execution_count": 70,
      "outputs": [
        {
          "output_type": "stream",
          "name": "stdout",
          "text": [
            "Enter the first number: 4\n",
            "Enter the second number: 7\n",
            "\n",
            "Entered numbers are: \n",
            "First Number:  4.0\n",
            "Second Number:  7.0\n",
            "\n",
            "Numbers after swapping: \n",
            "First Number:  7.0\n",
            "Second Number:  4.0\n"
          ]
        }
      ]
    },
    {
      "cell_type": "markdown",
      "metadata": {
        "id": "03jb4GZsBkBS"
      },
      "source": [
        "(3) Write a Python script to determine and print the length of a user-input string."
      ]
    },
    {
      "cell_type": "code",
      "execution_count": 71,
      "metadata": {
        "id": "YaGLbSHHB8Ej",
        "colab": {
          "base_uri": "https://localhost:8080/"
        },
        "outputId": "7bb93d30-95b6-4045-fc78-c6c22c964620"
      },
      "outputs": [
        {
          "output_type": "stream",
          "name": "stdout",
          "text": [
            "Enter the string: praveen\n",
            "Length of the string:  7\n"
          ]
        }
      ],
      "source": [
        "# write your answer here\n",
        "def len_string(strg):\n",
        "  length = 0\n",
        "  for i in strg:     #iterating through characters of a string\n",
        "    length += 1\n",
        "\n",
        "  print(\"Length of the string: \", length)\n",
        "\n",
        "strg = input(\"Enter the string: \")\n",
        "\n",
        "len_string(strg)\n",
        "\n",
        "\n"
      ]
    },
    {
      "cell_type": "markdown",
      "metadata": {
        "id": "jJDe71iLB616"
      },
      "source": [
        "(4) Construct a Python program that counts and displays the occurrences of each character in a given string.\n",
        "\n",
        "Sample String: 'openai.ai',\n",
        "\n",
        "Expected Result: {'a': 2, 'i': 2, '.': 1, 'o': 1, 'p': 1, 'e': 1, 'n': 1}"
      ]
    },
    {
      "cell_type": "code",
      "execution_count": 72,
      "metadata": {
        "id": "MtKskTzbCLaU",
        "colab": {
          "base_uri": "https://localhost:8080/"
        },
        "outputId": "cecb86f7-3aaf-4e73-b14b-66cd2b1f0c97"
      },
      "outputs": [
        {
          "output_type": "stream",
          "name": "stdout",
          "text": [
            "Enter a string: praveenreddykadasani\n",
            "\n",
            "Occurrence of each character:\n",
            "{'p': 1, 'r': 2, 'a': 4, 'v': 1, 'e': 3, 'n': 2, 'd': 3, 'y': 1, 'k': 1, 's': 1, 'i': 1}\n"
          ]
        }
      ],
      "source": [
        "# write your answer here\n",
        "def chars_count(strg):\n",
        "    char_count = {} #dictionary\n",
        "\n",
        "    for char in strg:\n",
        "\n",
        "        if char in char_count:\n",
        "            char_count[char] += 1\n",
        "        else:\n",
        "            char_count[char] = 1\n",
        "\n",
        "    return char_count\n",
        "\n",
        "\n",
        "strg = input(\"Enter a string: \")\n",
        "\n",
        "result = chars_count(strg)\n",
        "\n",
        "\n",
        "print(\"\\nOccurrence of each character:\")\n",
        "print(result)"
      ]
    },
    {
      "cell_type": "markdown",
      "metadata": {
        "id": "55W9AMdXCSpV"
      },
      "source": [
        "(5) Design a Python code to calculate the sum of all elements in a user-provided list."
      ]
    },
    {
      "cell_type": "code",
      "execution_count": 74,
      "metadata": {
        "id": "I57NXsauCec2",
        "colab": {
          "base_uri": "https://localhost:8080/"
        },
        "outputId": "60dbe5d0-39d2-46bd-fd1d-ca1db00a509d"
      },
      "outputs": [
        {
          "output_type": "stream",
          "name": "stdout",
          "text": [
            "Enter a list of numbers separated by spaces: 3 4 5 6 9\n",
            "Sum of all elements in the list is: 27.0\n"
          ]
        }
      ],
      "source": [
        "# write your answer here\n",
        "def cal_sum(in_list):\n",
        "\n",
        "    tot_sum = 0  # first assigning sum as 0\n",
        "\n",
        "    for i in in_list:\n",
        "        tot_sum += i\n",
        "\n",
        "    return tot_sum\n",
        "\n",
        "try:\n",
        "\n",
        "  enter_input = input(\"Enter a list of numbers separated by spaces: \")\n",
        "\n",
        "  # Convert the input string to a list of floats\n",
        "  in_list = [float(x) for x in enter_input.split()]\n",
        "\n",
        "  result = cal_sum(in_list)\n",
        "\n",
        "  print(\"Sum of all elements in the list is:\", result)\n",
        "\n",
        "except:\n",
        "  print(\"Error: Please enter numeric values\")"
      ]
    },
    {
      "cell_type": "markdown",
      "metadata": {
        "id": "4ulBZ6yhCi9F"
      },
      "source": [
        "(6) Write a Python program that modifies a given string by replacing all occurrences of its first character with '$', excluding the first character itself.\n",
        "\n",
        "\n",
        "Sample String : 'restart‘,\n",
        "\n",
        "Expected Result : 'resta\\$t'"
      ]
    },
    {
      "cell_type": "code",
      "execution_count": 78,
      "metadata": {
        "id": "Fj0XhwbBCw2o",
        "colab": {
          "base_uri": "https://localhost:8080/"
        },
        "outputId": "7d5444b1-0d70-4eaf-d2f0-c7c961d34b96"
      },
      "outputs": [
        {
          "output_type": "stream",
          "name": "stdout",
          "text": [
            "Enter the string: riverarora\n",
            "\n",
            "Modified String: rive$a$o$a\n"
          ]
        }
      ],
      "source": [
        "# write your answer here\n",
        "def rep_fir_char(in_str):\n",
        "\n",
        "    if len(in_str) > 0:\n",
        "        first_char = in_str[0]\n",
        "        mod_str = first_char + in_str[1:].replace(first_char, '$')\n",
        "        return mod_str\n",
        "    else:\n",
        "        return in_str\n",
        "\n",
        "try:\n",
        "\n",
        "  in_str = input(\"Enter the string: \")\n",
        "\n",
        "  result = rep_fir_char(in_str)\n",
        "\n",
        "  # Display the result\n",
        "  print(\"\\nModified String:\", result)\n",
        "\n",
        "except:            # if enters a numerical value\n",
        "  print(\"Error: Please enter a string\")"
      ]
    },
    {
      "cell_type": "markdown",
      "source": [
        "(7) Write a Python program using a while loop to compute the factorial of a user-supplied number."
      ],
      "metadata": {
        "id": "qVXA3q7ET5JI"
      }
    },
    {
      "cell_type": "code",
      "source": [
        "# write your answer here\n",
        "def factorial(n):\n",
        "\n",
        "    # Check for non-negative number\n",
        "    if n < 0:\n",
        "        return \"Factorial is not defined for negative numbers.\"\n",
        "    if n == 0 or n == 1:\n",
        "        return 1\n",
        "\n",
        "    fact_result = 1\n",
        "    # factorial using a while loop\n",
        "    while n > 1:\n",
        "        fact_result *= n\n",
        "        n -= 1\n",
        "    return fact_result\n",
        "\n",
        "try:\n",
        "    user_input = int(input(\"Enter a non-negative integer: \"))\n",
        "\n",
        "    result = factorial(user_input)\n",
        "\n",
        "    print(f\"The factorial of {user_input} is:\", result)\n",
        "\n",
        "except:\n",
        "    print(\"Error: Please enter a valid integer.\")"
      ],
      "metadata": {
        "id": "Lbt7R6UkT7BA",
        "colab": {
          "base_uri": "https://localhost:8080/"
        },
        "outputId": "8008cf70-e4a9-41ea-a054-bfc5d0ed401d"
      },
      "execution_count": 79,
      "outputs": [
        {
          "output_type": "stream",
          "name": "stdout",
          "text": [
            "Enter a non-negative integer: 4\n",
            "The factorial of 4 is: 24\n"
          ]
        }
      ]
    },
    {
      "cell_type": "markdown",
      "source": [
        "(8) Create a program that accepts a list of numbers as input and outputs a new list containing only the even numbers."
      ],
      "metadata": {
        "id": "6YfbzXMNT--R"
      }
    },
    {
      "cell_type": "code",
      "source": [
        "# write your answer here\n",
        "def even_num(input_list):\n",
        "\n",
        "    even_numbers = [i for i in input_list if i % 2 == 0]\n",
        "    return even_numbers\n",
        "\n",
        "try:\n",
        "    enter_num = input(\"Enter a list of numbers separated by spaces: \")\n",
        "\n",
        "    # Converting the string into integers\n",
        "    the_list = [int(x) for x in enter_num.split()]\n",
        "\n",
        "    result = even_num(the_list)\n",
        "\n",
        "    print(\"List of even numbers:\", result)\n",
        "\n",
        "except:\n",
        "    print(\"Error: Please enter the valid numerical values.\")"
      ],
      "metadata": {
        "id": "54q7wMQPUAKu",
        "colab": {
          "base_uri": "https://localhost:8080/"
        },
        "outputId": "7777407a-e6ca-422a-8629-101191ec9315"
      },
      "execution_count": 80,
      "outputs": [
        {
          "output_type": "stream",
          "name": "stdout",
          "text": [
            "Enter a list of numbers separated by spaces: 5 3 2 1 0 9\n",
            "List of even numbers: [2, 0]\n"
          ]
        }
      ]
    },
    {
      "cell_type": "markdown",
      "metadata": {
        "id": "_bIP7s1MCzue"
      },
      "source": [
        "\n",
        "(9) Design a Python function to check if a number is prime.\n"
      ]
    },
    {
      "cell_type": "code",
      "execution_count": 81,
      "metadata": {
        "id": "w79QilHXD3Mg",
        "colab": {
          "base_uri": "https://localhost:8080/"
        },
        "outputId": "ea37aa5f-731e-43a8-88b3-a9acfbddfd67"
      },
      "outputs": [
        {
          "output_type": "stream",
          "name": "stdout",
          "text": [
            "Enter a number: 7\n",
            "7 is a prime number\n"
          ]
        }
      ],
      "source": [
        "# write your answer here\n",
        "def is_prime(num):\n",
        "    # number is less than 2\n",
        "    if num < 2:\n",
        "        return False\n",
        "\n",
        "    # Check for factors from 2 to the square root of the number\n",
        "    for i in range(2, int(num**(1/2)) + 1):\n",
        "        if num % i == 0:\n",
        "            return False\n",
        "\n",
        "    return True\n",
        "\n",
        "try:\n",
        "    enter_input = int(input(\"Enter a number: \"))\n",
        "\n",
        "    result = is_prime(enter_input)\n",
        "\n",
        "    if result:\n",
        "        print(f\"{enter_input} is a prime number\")\n",
        "    else:\n",
        "        print(f\"{enter_input} is not a prime number\")\n",
        "\n",
        "except:\n",
        "    print(\"Error: Please enter a valid integer\")"
      ]
    },
    {
      "cell_type": "markdown",
      "metadata": {
        "id": "xCa2bK9aD4Q3"
      },
      "source": [
        "(10) Write a Python program to concatenate following dictionaries to create a new one.\n",
        "\n",
        "Sample Dictionary : dic1={1:10, 2:20}, dic2={3:30, 4:40}, dic3={5:50,6:60},\n",
        "\n",
        "Expected Result : {1: 10, 2: 20, 3: 30, 4: 40, 5: 50, 6: 60}\n"
      ]
    },
    {
      "cell_type": "code",
      "execution_count": 82,
      "metadata": {
        "id": "_z4aLqAbEET1",
        "colab": {
          "base_uri": "https://localhost:8080/"
        },
        "outputId": "1262cbc4-6b15-4b2d-912c-2c44a3c274a2"
      },
      "outputs": [
        {
          "output_type": "stream",
          "name": "stdout",
          "text": [
            "Concatenate Dictionary: {1: 10, 2: 20, 3: 30, 4: 40, 5: 50, 6: 60}\n"
          ]
        }
      ],
      "source": [
        "# write your answer here\n",
        "\n",
        "dic1 = {1: 10, 2: 20}\n",
        "dic2 = {3: 30, 4: 40}\n",
        "dic3 = {5: 50, 6: 60}\n",
        "\n",
        "# Concatenating dictionaries\n",
        "result_dict = dic1.copy()\n",
        "result_dict.update(dic2)\n",
        "result_dict.update(dic3)\n",
        "\n",
        "print(\"Concatenate Dictionary:\", result_dict)\n"
      ]
    },
    {
      "cell_type": "markdown",
      "source": [
        "(11) Design a Python function that takes a tuple of integers as input and returns the largest and smallest elements."
      ],
      "metadata": {
        "id": "bkyZ2xSZUOst"
      }
    },
    {
      "cell_type": "code",
      "source": [
        "# write your answer here\n",
        "\n",
        "def find_large_small(in_tuple):\n",
        "\n",
        "    if not in_tuple:\n",
        "        return None, None\n",
        "\n",
        "    largest = smallest = in_tuple[0]\n",
        "\n",
        "    for i in in_tuple:\n",
        "        if i > largest:\n",
        "            largest = i\n",
        "        elif i < smallest:\n",
        "            smallest = i\n",
        "\n",
        "    return largest, smallest\n",
        "\n",
        "try:\n",
        "    user_input = input(\"Enter a tuple of integers separated by spaces: \")\n",
        "\n",
        "    # Converting string into tuple of integers\n",
        "    user_tuple = tuple(map(int, user_input.split()))\n",
        "\n",
        "    largest, smallest = find_large_small(user_tuple)\n",
        "\n",
        "    if largest is not None and smallest is not None:\n",
        "        print(f\"Largest element is: {largest}\")\n",
        "        print(f\"Smallest element is: {smallest}\")\n",
        "    else:\n",
        "        print(\"Error: Please enter valid integers in the tuple.\")\n",
        "\n",
        "except:\n",
        "    print(\"Error: Please enter valid integers in the tuple.\")"
      ],
      "metadata": {
        "id": "3FdLRBKOUQEd",
        "colab": {
          "base_uri": "https://localhost:8080/"
        },
        "outputId": "07c0c31e-bf51-4f7d-fd48-20fd24ccda12"
      },
      "execution_count": 84,
      "outputs": [
        {
          "output_type": "stream",
          "name": "stdout",
          "text": [
            "Enter a tuple of integers separated by spaces: 4 8 9 4 0 3\n",
            "Largest element is: 9\n",
            "Smallest element is: 0\n"
          ]
        }
      ]
    },
    {
      "cell_type": "markdown",
      "source": [
        "(12) Write a Python program that counts the frequency of each character in a given string and stores it in a dictionary."
      ],
      "metadata": {
        "id": "O0TVi3gKUTpp"
      }
    },
    {
      "cell_type": "code",
      "source": [
        "# write your answer here\n",
        "\n",
        "def freq_char():\n",
        "\n",
        "  string = input(\"Enter a string: \")\n",
        "  char_dict = {}\n",
        "  for char in string:\n",
        "    if char in char_dict:\n",
        "      char_dict[char] += 1\n",
        "    else:\n",
        "      char_dict[char] = 1\n",
        "  return char_dict\n",
        "\n",
        "\n",
        "count_char = freq_char()\n",
        "\n",
        "print(count_char)"
      ],
      "metadata": {
        "id": "lAtfSfZXUU-h",
        "colab": {
          "base_uri": "https://localhost:8080/"
        },
        "outputId": "d079365b-22f8-4281-d7e6-38317253fe63"
      },
      "execution_count": 85,
      "outputs": [
        {
          "output_type": "stream",
          "name": "stdout",
          "text": [
            "Enter a string: Praveen Reddy Kadasani\n",
            "{'P': 1, 'r': 1, 'a': 4, 'v': 1, 'e': 3, 'n': 2, ' ': 2, 'R': 1, 'd': 3, 'y': 1, 'K': 1, 's': 1, 'i': 1}\n"
          ]
        }
      ]
    },
    {
      "cell_type": "markdown",
      "metadata": {
        "id": "0v48Vqa7FrQh"
      },
      "source": [
        "(13) Implement a Python script to identify duplicate elements in a provided array of integers. Return -1 if there are no duplicates."
      ]
    },
    {
      "cell_type": "code",
      "execution_count": 86,
      "metadata": {
        "id": "7WEmgq-DF2P1",
        "colab": {
          "base_uri": "https://localhost:8080/"
        },
        "outputId": "8d1910c7-f36c-4d89-e4ce-81fcfe9a19c5"
      },
      "outputs": [
        {
          "output_type": "stream",
          "name": "stdout",
          "text": [
            "Enter an array of integers separated by spaces: 3 9 4 0 6 2 7 28 292 28899 2 3 \n",
            "Duplicate elements are: [2, 3]\n"
          ]
        }
      ],
      "source": [
        "# write your answer here\n",
        "\n",
        "def find_dup(arr):\n",
        "    seen = set()\n",
        "    duplicates = set()\n",
        "\n",
        "    for i in arr:\n",
        "        if i in seen:\n",
        "            duplicates.add(i)\n",
        "        else:\n",
        "            seen.add(i)\n",
        "\n",
        "    if duplicates:\n",
        "        return list(duplicates)\n",
        "    else:\n",
        "        return -1\n",
        "\n",
        "try:\n",
        "    user_input = input(\"Enter an array of integers separated by spaces: \")\n",
        "\n",
        "    # Converting the string into list\n",
        "    user_array = list(map(int, user_input.split()))\n",
        "\n",
        "    result = find_dup(user_array)\n",
        "\n",
        "    if result == -1:\n",
        "        print(\"No duplicates found.\")\n",
        "    else:\n",
        "        print(\"Duplicate elements are:\", result)\n",
        "\n",
        "except:\n",
        "    print(\"Error: Please enter valid integers in the array.\")"
      ]
    },
    {
      "cell_type": "markdown",
      "metadata": {
        "id": "vD5PYLMuGga_"
      },
      "source": [
        "(14) Write a Python script to find the common elements between two lists."
      ]
    },
    {
      "cell_type": "code",
      "execution_count": 87,
      "metadata": {
        "id": "t0D5kdJUGjjw",
        "colab": {
          "base_uri": "https://localhost:8080/"
        },
        "outputId": "53699ad2-612b-4528-c000-1a29e2c56c78"
      },
      "outputs": [
        {
          "output_type": "stream",
          "name": "stdout",
          "text": [
            "Enter the first list of elements separated by spaces: 1 2 3 4 \n",
            "\n",
            "Enter the second list of elements separated by spaces: 3 4 5 3 4 \n",
            "\n",
            "Common elements are: ['3', '4']\n"
          ]
        }
      ],
      "source": [
        "# write your answer here\n",
        "\n",
        "def common_ele(list1, list2):\n",
        "    common_elements = set(list1) & set(list2)\n",
        "    return list(common_elements)\n",
        "\n",
        "in_list1 = input(\"Enter the first list of elements separated by spaces: \")\n",
        "in_list2 = input(\"\\nEnter the second list of elements separated by spaces: \")\n",
        "\n",
        "# Converting the strings to lists\n",
        "list1 = in_list1.split()\n",
        "list2 = in_list2.split()\n",
        "\n",
        "result = common_ele(list1, list2)\n",
        "\n",
        "if result:\n",
        "  print(\"\\nCommon elements are:\", result)\n",
        "else:\n",
        "  print(\"\\nNo common elements.\")\n"
      ]
    },
    {
      "cell_type": "markdown",
      "metadata": {
        "id": "uHkd-y5VhVWC"
      },
      "source": [
        "(15) Write a Python program to randomly divide the students in this class into six groups for term projects, each group should have at least 4 students but no more than 6 students (including 6).\n",
        "\n",
        "Here is the students list:\n",
        "\n",
        "student_list_spring_2024=[rb0846,\n",
        "ac1964,\n",
        "hc0612,\n",
        "md0912,\n",
        "ad1198,\n",
        "md0894,\n",
        "md0825,\n",
        "vg0598,\n",
        "vg0433,\n",
        "mh1068,\n",
        "yj0173,\n",
        "pk0553,\n",
        "tk0411,\n",
        "srk0204,\n",
        "sk2922,\n",
        "sk2936,\n",
        "mk1302,\n",
        "mk1317,\n",
        "tk0412,\n",
        "vk0656,\n",
        "sm2985,\n",
        "mm2372,\n",
        "un0045,\n",
        "an0892,\n",
        "sn0913,\n",
        "gp0252,\n",
        "ap1484,\n",
        "mr1765,\n",
        "sr1385,\n",
        "sr1335,\n",
        "hs0665,\n",
        "ms2060,\n",
        "gt0217,\n",
        "nt0385,\n",
        "tv0186,\n",
        "sv1394,\n",
        "sv1752,\n",
        "sv1555,\n",
        "sy0594\n",
        "]\n"
      ]
    },
    {
      "cell_type": "code",
      "execution_count": 89,
      "metadata": {
        "id": "3iGbmcOBhTwy",
        "colab": {
          "base_uri": "https://localhost:8080/"
        },
        "outputId": "ed2e4fe3-dcfb-48cc-a528-05f67d47778d"
      },
      "outputs": [
        {
          "output_type": "stream",
          "name": "stdout",
          "text": [
            "Group 1: ['vg0598', 'sm2985', 'tk0412', 'ac1964']\n",
            "Group 2: ['hc0612', 'srk0204', 'md0912', 'an0892', 'pk0553']\n",
            "Group 3: ['sk2922', 'vg0433', 'ad1198', 'mr1765', 'sr1335']\n",
            "Group 4: ['tv0186', 'sv1752', 'hs0665', 'sy0594', 'ap1484', 'mk1302']\n",
            "Group 5: ['nt0385', 'sv1394', 'md0894', 'ms2060', 'gt0217']\n",
            "Group 6: ['yj0173', 'sk2936', 'un0045', 'sv1555']\n",
            "Group 7: ['gp0252', 'mh1068', 'md0825', 'rb0846']\n",
            "Group 8: ['tk0411', 'sr1385', 'mm2372', 'mk1317', 'sn0913']\n",
            "Group 9: ['vk0656']\n"
          ]
        }
      ],
      "source": [
        "# write your answer here\n",
        "\n",
        "import random\n",
        "\n",
        "def divide_std_into_grps(student_list):\n",
        "    # Shuffling the students\n",
        "    random.shuffle(student_list)\n",
        "\n",
        "    # Initializing the groups\n",
        "    groups = []\n",
        "\n",
        "    while student_list:\n",
        "        group_size = random.randint(4, 6)\n",
        "        group = student_list[:group_size]\n",
        "        groups.append(group)\n",
        "        student_list = student_list[group_size:]\n",
        "\n",
        "    return groups\n",
        "\n",
        "student_list_spring_2024 = [\"rb0846\", \"ac1964\", \"hc0612\", \"md0912\", \"ad1198\", \"md0894\", \"md0825\", \"vg0598\", \"vg0433\",\n",
        "                             \"mh1068\", \"yj0173\", \"pk0553\", \"tk0411\", \"srk0204\", \"sk2922\", \"sk2936\", \"mk1302\", \"mk1317\",\n",
        "                             \"tk0412\", \"vk0656\", \"sm2985\", \"mm2372\", \"un0045\", \"an0892\", \"sn0913\", \"gp0252\", \"ap1484\",\n",
        "                             \"mr1765\", \"sr1385\", \"sr1335\", \"hs0665\", \"ms2060\", \"gt0217\", \"nt0385\", \"tv0186\", \"sv1394\",\n",
        "                             \"sv1752\", \"sv1555\", \"sy0594\"]\n",
        "\n",
        "result_groups = divide_std_into_grps(student_list_spring_2024)\n",
        "\n",
        "for i, group in enumerate(result_groups, start=1):\n",
        "    print(f\"Group {i}: {group}\")\n"
      ]
    },
    {
      "cell_type": "markdown",
      "metadata": {
        "id": "fmZ9vX20Qs3d"
      },
      "source": [
        "(16) Create a program that takes a positive integer 'n' as input and prints the count of even numbers from 1 to 'n'. Optimize the loop using the break statement."
      ]
    },
    {
      "cell_type": "code",
      "execution_count": 90,
      "metadata": {
        "id": "W8Jw6sWMQs3d",
        "colab": {
          "base_uri": "https://localhost:8080/"
        },
        "outputId": "6366d308-e522-4331-f079-7ed3bf45ff15"
      },
      "outputs": [
        {
          "output_type": "stream",
          "name": "stdout",
          "text": [
            "Enter a positive integer 'n': 8\n",
            "Count of even numbers from 1 to 8: 4\n"
          ]
        }
      ],
      "source": [
        "# write your answer here\n",
        "\n",
        "def count_even_num(n):\n",
        "\n",
        "    even_count = 0\n",
        "\n",
        "    for i in range(1, n + 1):\n",
        "        # Check if the number is even\n",
        "        if i % 2 == 0:\n",
        "            even_count += 1\n",
        "\n",
        "        # Break the loop if i exceeds 'n'\n",
        "        if i > n:\n",
        "            break\n",
        "\n",
        "    return even_count\n",
        "\n",
        "try:\n",
        "    user_input = int(input(\"Enter a positive integer 'n': \"))\n",
        "\n",
        "    # Check if the input is a positive integer\n",
        "    if user_input > 0:\n",
        "        result = count_even_num(user_input)\n",
        "        print(f\"Count of even numbers from 1 to {user_input}: {result}\")\n",
        "\n",
        "    else:\n",
        "        print(\"Error: Please enter a positive integer.\")\n",
        "\n",
        "except:\n",
        "    print(\"Error: Please enter a valid integer.\")\n"
      ]
    },
    {
      "cell_type": "markdown",
      "metadata": {
        "id": "hvq4APMhQs3d"
      },
      "source": [
        "(17) Develop a Python function called 'count_vowels' that takes a string as input and returns the count of vowels (both lowercase and uppercase) present in the string, ignoring spaces and non-alphabetic characters."
      ]
    },
    {
      "cell_type": "code",
      "execution_count": 91,
      "metadata": {
        "id": "ZnoxhSglQs3d",
        "colab": {
          "base_uri": "https://localhost:8080/"
        },
        "outputId": "0503949d-7258-43da-f2e1-7f284c11f689"
      },
      "outputs": [
        {
          "output_type": "stream",
          "name": "stdout",
          "text": [
            "Enter a string: Discovery\n",
            "Count of vowels in the string is: 3\n"
          ]
        }
      ],
      "source": [
        "# write your answer here\n",
        "\n",
        "def count_vowels(input_str):\n",
        "    vowels = \"AEIOUaeiou\"\n",
        "    count = 0\n",
        "\n",
        "    for char in input_str:\n",
        "        if char.isalpha() and char in vowels:\n",
        "            count += 1\n",
        "\n",
        "    return count\n",
        "\n",
        "try:\n",
        "    enter_input = input(\"Enter a string: \")\n",
        "\n",
        "    result = count_vowels(enter_input)\n",
        "\n",
        "    print(f\"Count of vowels in the string is: {result}\")\n",
        "\n",
        "except:\n",
        "    print(\"Error:Enter a valid string\")"
      ]
    },
    {
      "cell_type": "markdown",
      "source": [
        "(18) Create a custom exception named ValueTooSmallError in Python. Write a program that takes user input for an age, and if the entered age is less than 18, raise the ValueTooSmallError with an appropriate error message."
      ],
      "metadata": {
        "id": "55FWoSJPVVM6"
      }
    },
    {
      "cell_type": "code",
      "source": [
        "# write your answer here\n",
        "\n",
        "class ValueTooSmallError(Exception):\n",
        "\n",
        "    pass\n",
        "\n",
        "def check_age(age):\n",
        "    if age < 18:\n",
        "        raise ValueTooSmallError(\"Age must be 18 or older.\")\n",
        "\n",
        "try:\n",
        "    user_age = int(input(\"Enter your age: \"))\n",
        "    check_age(user_age)\n",
        "\n",
        "    print(\"You are eligible.\")\n",
        "\n",
        "except ValueError:\n",
        "    print(\"Error: Please enter a valid integer for age.\")\n",
        "\n",
        "except ValueTooSmallError as e:\n",
        "    print(f\"Error: {e}\")"
      ],
      "metadata": {
        "id": "hwtr1wZmVX5A",
        "colab": {
          "base_uri": "https://localhost:8080/"
        },
        "outputId": "d001aac8-cd13-4bcb-babe-ad82724a2ea9"
      },
      "execution_count": 92,
      "outputs": [
        {
          "output_type": "stream",
          "name": "stdout",
          "text": [
            "Enter your age: 23\n",
            "You are eligible.\n"
          ]
        }
      ]
    },
    {
      "cell_type": "markdown",
      "source": [
        "(19) Develop a script that reverses a given string without using built-in reverse functions."
      ],
      "metadata": {
        "id": "Q9ecagcaVazW"
      }
    },
    {
      "cell_type": "code",
      "source": [
        "# write your answer here\n",
        "\n",
        "def revs_strg(in_str):\n",
        "    reversed_str = \"\"\n",
        "\n",
        "    # Iterating the characters of string in reverse\n",
        "    for i in range(len(in_str) - 1, -1, -1):\n",
        "        reversed_str += in_str[i]\n",
        "\n",
        "    return reversed_str\n",
        "\n",
        "try:\n",
        "    user_input = input(\"Enter the string: \")\n",
        "    result = revs_strg(user_input)\n",
        "\n",
        "    print(\"Reversed string is:\", result)\n",
        "\n",
        "except:\n",
        "    print(\"Error: Enter a valid string.\")"
      ],
      "metadata": {
        "id": "gycgckoAVZjR",
        "colab": {
          "base_uri": "https://localhost:8080/"
        },
        "outputId": "2346597e-6a97-4ff9-c328-10021dafe6f8"
      },
      "execution_count": 93,
      "outputs": [
        {
          "output_type": "stream",
          "name": "stdout",
          "text": [
            "Enter the string: Information\n",
            "Reversed string is: noitamrofnI\n"
          ]
        }
      ]
    },
    {
      "cell_type": "markdown",
      "source": [
        "(20) Implement a Python script to generate a random password of a specified length."
      ],
      "metadata": {
        "id": "ZFG6RibifMLu"
      }
    },
    {
      "cell_type": "code",
      "source": [
        "# write your answer here\n",
        "\n",
        "import random\n",
        "import string\n",
        "\n",
        "def generate_random_password(length):\n",
        "\n",
        "    if length < 0:\n",
        "        raise ValueError(\"Error: Password length cannot be negative.\")\n",
        "    if length == 0:\n",
        "        return \"\"\n",
        "\n",
        "    characters = string.ascii_letters + string.digits + string.punctuation\n",
        "    password = ''.join(random.choice(characters) for char in range(length))\n",
        "\n",
        "    return password\n",
        "\n",
        "try:\n",
        "    password_length = int(input(\"Enter the length of the password: \"))\n",
        "    generated_password = generate_random_password(password_length)\n",
        "\n",
        "    print(\"Generated Password:\", generated_password)\n",
        "\n",
        "except ValueError as e:\n",
        "    print(e)\n",
        "except Exception as e:\n",
        "    print(f\"Error: {e}\")"
      ],
      "metadata": {
        "id": "BFVrkEi9fNiD",
        "colab": {
          "base_uri": "https://localhost:8080/"
        },
        "outputId": "05f3511c-ec67-40ca-8be9-f3c88cd07564"
      },
      "execution_count": 94,
      "outputs": [
        {
          "output_type": "stream",
          "name": "stdout",
          "text": [
            "Enter the length of the password: 14\n",
            "Generated Password: P,:zEC}u>?%c?`\n"
          ]
        }
      ]
    },
    {
      "cell_type": "markdown",
      "source": [
        "# Try these questions:"
      ],
      "metadata": {
        "id": "6SmvS7nSfbj8"
      }
    },
    {
      "cell_type": "markdown",
      "source": [
        "(21) Define a base class called 'Vehicle' with attributes make and model. Create a derived class Car that inherits from Vehicle and has an additional attribute 'num_doors'. Demonstrate an example of creating an instance of the 'Car' class and accessing its attributes."
      ],
      "metadata": {
        "id": "cboAr5pEWUf5"
      }
    },
    {
      "cell_type": "code",
      "source": [
        "# write your answer here\n",
        "\n",
        "class Vehicle:\n",
        "    def __init__(self, make, model):\n",
        "        self.make = make\n",
        "        self.model = model\n",
        "\n",
        "class Car(Vehicle):\n",
        "    def __init__(self, make, model, num_doors):\n",
        "        super().__init__(make, model)\n",
        "        self.num_doors = num_doors\n",
        "\n",
        "try:\n",
        "    make_input = input(\"Enter the make of the car: \")\n",
        "    model_input = input(\"Enter the model of the car: \")\n",
        "    doors_input = int(input(\"Enter the number of doors: \"))\n",
        "\n",
        "    my_car = Car(make=make_input, model=model_input, num_doors=doors_input)\n",
        "\n",
        "    print(\"\\nDetails of the my car:\")\n",
        "    print(\"\\nMake:\", my_car.make)\n",
        "    print(\"Model:\", my_car.model)\n",
        "    print(\"Number of Doors:\", my_car.num_doors)\n",
        "\n",
        "except ValueError as ve:\n",
        "    print(f\"Error: {ve}\")\n",
        "except Exception as e:\n",
        "    print(f\"Error: {e}\")"
      ],
      "metadata": {
        "id": "phs9gciMWWAW",
        "colab": {
          "base_uri": "https://localhost:8080/"
        },
        "outputId": "2d01f0f1-6a77-4470-dd81-dfe010344688"
      },
      "execution_count": 95,
      "outputs": [
        {
          "output_type": "stream",
          "name": "stdout",
          "text": [
            "Enter the make of the car: Lamborgini\n",
            "Enter the model of the car: Urus\n",
            "Enter the number of doors: 4\n",
            "\n",
            "Details of the my car:\n",
            "\n",
            "Make: Lamborgini\n",
            "Model: Urus\n",
            "Number of Doors: 4\n"
          ]
        }
      ]
    },
    {
      "cell_type": "markdown",
      "source": [
        "(22) Create a class called 'Shape' with a method calculate_area(). Implement two derived classes 'Circle' and 'Rectangle' that inherit from Shape and override the calculate_area() method. Demonstrate polymorphism by creating instances of both derived classes and calling the calculate_area() method."
      ],
      "metadata": {
        "id": "J8HHefNtePwd"
      }
    },
    {
      "cell_type": "code",
      "source": [
        "# write your answer here\n",
        "\n",
        "import math\n",
        "\n",
        "class Shape:\n",
        "    def calculate_area(self):\n",
        "        raise NotImplementedError(\"Subclasses must implement the calculate_area() method.\")\n",
        "\n",
        "class Circle(Shape):\n",
        "    def __init__(self, radius):\n",
        "        self.radius = radius\n",
        "\n",
        "    def calculate_area(self):\n",
        "        return math.pi * self.radius**2\n",
        "\n",
        "class Rectangle(Shape):\n",
        "    def __init__(self, length, width):\n",
        "        self.length = length\n",
        "        self.width = width\n",
        "\n",
        "    def calculate_area(self):\n",
        "        return self.length * self.width\n",
        "\n",
        "try:\n",
        "    cir_rad = float(input(\"Enter the radius of the circle: \"))\n",
        "    circle_inst= Circle(radius=cir_rad)\n",
        "\n",
        "    rec_len = float(input(\"Enter the length of the rectangle: \"))\n",
        "    rec_wid = float(input(\"Enter the width of the rectangle: \"))\n",
        "    rec_inst = Rectangle(length=rec_len, width=rec_wid)\n",
        "\n",
        "\n",
        "    area_circle = circle_inst.calculate_area()\n",
        "    area_rectangle = rec_inst.calculate_area()\n",
        "\n",
        "    print(\"\\nArea of the Circle:\", area_circle)\n",
        "    print(\"Area of the Rectangle:\", area_rectangle)\n",
        "\n",
        "except ValueError as ve:\n",
        "    print(f\"Error: {ve}\")\n",
        "except Exception as e:\n",
        "    print(f\"Error: {e}\")"
      ],
      "metadata": {
        "id": "btnMmUZDeRhS",
        "colab": {
          "base_uri": "https://localhost:8080/"
        },
        "outputId": "f0e7b0f5-7019-42a2-ca44-45976b5f64e8"
      },
      "execution_count": 96,
      "outputs": [
        {
          "output_type": "stream",
          "name": "stdout",
          "text": [
            "Enter the radius of the circle: 16\n",
            "Enter the length of the rectangle: 34\n",
            "Enter the width of the rectangle: 25\n",
            "\n",
            "Area of the Circle: 804.247719318987\n",
            "Area of the Rectangle: 850.0\n"
          ]
        }
      ]
    },
    {
      "cell_type": "markdown",
      "source": [
        "(23) Write a Python program that prompts the user to enter two numbers and perform a division operation. Handle exceptions for both zero division and invalid input (non-numeric input). Display appropriate error messages for each type of exception and ensure the program does not crash due to these errors."
      ],
      "metadata": {
        "id": "z0oqEAlTeMUS"
      }
    },
    {
      "cell_type": "code",
      "source": [
        "# write your answer here\n",
        "\n",
        "try:\n",
        "    num1 = float(input(\"Enter the first number: \"))\n",
        "    num2 = float(input(\"Enter the second number: \"))\n",
        "\n",
        "    # division\n",
        "    result = num1 / num2\n",
        "    8\n",
        "    print(\"Result of division:\", result)\n",
        "\n",
        "except ValueError as ve:\n",
        "    print(f\"Error: {ve}. Please enter valid numeric values.\")\n",
        "\n",
        "except ZeroDivisionError:\n",
        "    print(\"Error: Division by zero is not allowed.\")\n",
        "\n",
        "except Exception as e:\n",
        "    print(f\"An unexpected error occurred: {e}\")\n",
        "\n",
        "finally:\n",
        "    print(\"Program execution completed.\")"
      ],
      "metadata": {
        "id": "yjdc1zM1eMAs",
        "colab": {
          "base_uri": "https://localhost:8080/"
        },
        "outputId": "910e21fc-7000-409c-a617-773ce1b44b59"
      },
      "execution_count": 97,
      "outputs": [
        {
          "output_type": "stream",
          "name": "stdout",
          "text": [
            "Enter the first number: 47\n",
            "Enter the second number: 89\n",
            "Result of division: 0.5280898876404494\n",
            "Program execution completed.\n"
          ]
        }
      ]
    },
    {
      "cell_type": "markdown",
      "source": [
        "# Mandatory Question"
      ],
      "metadata": {
        "id": "sZOhks1dXWEe"
      }
    },
    {
      "cell_type": "markdown",
      "source": [
        "**Important:**\n",
        "Reflecting on the first three lectures and the exercises you've completed, please provide feedback on your learning experience. Share your thoughts on whether the material covered was clear, the exercises were helpful, and if you feel more confident in applying Python programming concepts. Additionally, mention any specific areas where you would like more clarification or topics you would like to explore further in future lectures. Your feedback is valuable in shaping the course for an effective learning journey."
      ],
      "metadata": {
        "id": "eqmHVEwaWhbV"
      }
    },
    {
      "cell_type": "markdown",
      "source": [
        "Write your response here."
      ],
      "metadata": {
        "id": "HlpXOT9wXQAd"
      }
    },
    {
      "cell_type": "markdown",
      "source": [
        "As of now I attended all the three classes, and by every class I got motivated by the fact that hardwork pays off. Coming to class materials they were good covering the basics.\n",
        "\n",
        "Coming to te excercises, yes they were very helpful, it feels like I don't need to learn evrything from scratch, doing these exercises will make us revise everything.As of now I feel the material was good and the explanation of the topics also went good.\n",
        "\n",
        "I know that teaching everything from the scratch with in the given time is impossible. Going through the lecture materials and by practicing in guided ways is the key. I felt like going too fast in demos, other than that everything is perfect."
      ],
      "metadata": {
        "id": "TtxCduYtLrQh"
      }
    }
  ],
  "metadata": {
    "colab": {
      "provenance": [],
      "include_colab_link": true
    },
    "kernelspec": {
      "display_name": "Python 3 (ipykernel)",
      "language": "python",
      "name": "python3"
    },
    "language_info": {
      "codemirror_mode": {
        "name": "ipython",
        "version": 3
      },
      "file_extension": ".py",
      "mimetype": "text/x-python",
      "name": "python",
      "nbconvert_exporter": "python",
      "pygments_lexer": "ipython3",
      "version": "3.9.12"
    }
  },
  "nbformat": 4,
  "nbformat_minor": 0
}