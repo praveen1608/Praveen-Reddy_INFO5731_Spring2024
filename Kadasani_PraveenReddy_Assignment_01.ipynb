{
  "cells": [
    {
      "cell_type": "markdown",
      "metadata": {
        "id": "view-in-github",
        "colab_type": "text"
      },
      "source": [
        "<a href=\"https://colab.research.google.com/github/praveen1608/Praveen-Reddy_INFO5731_Spring2024/blob/main/Kadasani_PraveenReddy_Assignment_01.ipynb\" target=\"_parent\"><img src=\"https://colab.research.google.com/assets/colab-badge.svg\" alt=\"Open In Colab\"/></a>"
      ]
    },
    {
      "cell_type": "markdown",
      "metadata": {
        "id": "Ryk8D1Q4Wsrp"
      },
      "source": [
        "# **INFO5731 Assignment One**"
      ]
    },
    {
      "cell_type": "markdown",
      "source": [
        "This assignment includes range of programming tasks and data analysis exercises, aiming to enhance your Python skills and proficiency in string manipulation, numerical computations, and data science. Follow the instructions carefully and design well-structured Python programs to address each question.\n",
        "\n",
        "Late Submission will have a penalty of 10% reduction for each day after the deadline."
      ],
      "metadata": {
        "id": "qcP6re2g5A5r"
      }
    },
    {
      "cell_type": "markdown",
      "metadata": {
        "id": "JkzR8cFAyGik"
      },
      "source": [
        "# Question 1 (10 points).\n",
        "\n",
        "The formula that describes the volume V of a hemisphere with radius r is the following:\n",
        "\n",
        "$ V=\\frac{2}{3}\\ast\\ \\pi\\ast\\ r^3 $\n",
        "\n",
        "Write a program to calculate the value of V when r is in the range of even numbers from 1-20. Output the result in the following format:\n",
        "\n",
        "\tr\tV\n",
        "\t2\t…\n",
        "\t4\t…\n",
        "\t6\t…\n",
        "\t.\n",
        "\t.\n",
        "\t.\n",
        "\t20\t…\n"
      ]
    },
    {
      "cell_type": "code",
      "execution_count": 51,
      "metadata": {
        "id": "jDyTKYs-yGit",
        "colab": {
          "base_uri": "https://localhost:8080/"
        },
        "outputId": "f897965e-c439-4249-fecb-1f948d2a3b45"
      },
      "outputs": [
        {
          "output_type": "stream",
          "name": "stdout",
          "text": [
            "r      V\n",
            "\n",
            "2    16.755160819145562\n",
            "\n",
            "4    134.0412865531645\n",
            "\n",
            "6    452.38934211693015\n",
            "\n",
            "8    1072.330292425316\n",
            "\n",
            "10    2094.3951023931954\n",
            "\n",
            "12    3619.114736935441\n",
            "\n",
            "14    5747.0201609669275\n",
            "\n",
            "16    8578.642339402528\n",
            "\n",
            "18    12214.512237157114\n",
            "\n",
            "20    16755.160819145563\n"
          ]
        }
      ],
      "source": [
        "# Your code here\n",
        "\n",
        "import math\n",
        "\n",
        "def Vol_hemis(rad):\n",
        "  return (2/3) * math.pi * rad**3    #volume of hemisphere formula\n",
        "\n",
        "print(\"r      V\") #heading\n",
        "\n",
        "for r in range(2,21,2):\n",
        "  vol = Vol_hemis(r)\n",
        "  print(f\"\\n{r}    {vol}\")\n"
      ]
    },
    {
      "cell_type": "markdown",
      "metadata": {
        "id": "90_NR8c5XGWc"
      },
      "source": [
        "# Question 2 (20 points)\n",
        "\n",
        "(a) Write a Python program to generate a sequence of 12 random numbers falling within the range of 50 to 150.\n",
        "\n",
        "(b) Arrange the generated numbers in ascending order. Display the sorted list.\n",
        "\n",
        "(c) Extend the program to arrange the numbers in descending order as well. Present the sorted list accordingly.\n",
        "\n",
        "(d) Compute and output the average of the entire group of generated numbers.\n",
        "\n",
        "(e) Enhance the program to calculate and display the average of the first 6 numbers from both the ascending and descending sorted lists."
      ]
    },
    {
      "cell_type": "code",
      "execution_count": 58,
      "metadata": {
        "id": "5QX6bJjGWXY9",
        "colab": {
          "base_uri": "https://localhost:8080/"
        },
        "outputId": "db5ec4e4-cace-4215-a0cc-0023911fe168"
      },
      "outputs": [
        {
          "output_type": "stream",
          "name": "stdout",
          "text": [
            "Random Numbers generated: [107, 131, 105, 138, 115, 99, 97, 132, 56, 97, 71, 100]\n",
            "\n",
            "Ascending Ordered List: [56, 56, 56, 56, 56, 56, 56, 56, 56, 71, 71, 100]\n",
            "\n",
            "Descending Ordered List: [100, 100, 100, 100, 100, 100, 100, 100, 100, 100, 100, 100]\n",
            "\n",
            "Average of all numbers: 100.0\n",
            "\n",
            "Average of first 6 numbers of Ascending ordered numbers: 56.0\n",
            "\n",
            "Average of first 6 numbers of Descending ordered numbers: 100.0\n"
          ]
        }
      ],
      "source": [
        "# Write code for each of the sub parts with proper comments.\n",
        "\n",
        "import random\n",
        "\n",
        "# Generating 12 random numbers within range 50-150\n",
        "\n",
        "rand_num = [random.randint(50, 150) for _ in range(12)]\n",
        "print(\"Random Numbers generated:\", rand_num)\n",
        "\n",
        "# Arranging the numbers in ascending order and printing list\n",
        "for i in range(len(rand_num)):\n",
        "    for j in range(i + 1, len(rand_num)):\n",
        "        if rand_num[i] > rand_num[j]:\n",
        "            rand_num[i] = rand_num[j]\n",
        "            rand_num[j] = rand_num[i]\n",
        "\n",
        "asc_order_num = rand_num.copy()\n",
        "print(\"\\nAscending Ordered List:\", asc_order_num)\n",
        "\n",
        "# Arranging the numbers in descending order and displaying list\n",
        "for i in range(len(rand_num)):\n",
        "    for j in range(i + 1, len(rand_num)):\n",
        "        if rand_num[i] < rand_num[j]:\n",
        "            rand_num[i] = rand_num[j]\n",
        "            rand_num[j] = rand_num[i]\n",
        "\n",
        "desc_order_num = rand_num.copy()\n",
        "print(\"\\nDescending Ordered List:\", desc_order_num)\n",
        "\n",
        "# Average of whole listed generated numbers\n",
        "avg_all_num = sum(rand_num) / len(rand_num)\n",
        "print(\"\\nAverage of all numbers:\", avg_all_num)\n",
        "\n",
        "# Average of the first 6 numbers of ascending ordered list\n",
        "avg_first_six_asc = sum(asc_order_num[:6]) / 6\n",
        "\n",
        "# Average of the first 6 numbers of descending ordered list\n",
        "avg_first_six_desc = sum(desc_order_num[:6]) / 6\n",
        "\n",
        "print(\"\\nAverage of first 6 numbers of Ascending ordered numbers:\", avg_first_six_asc)\n",
        "print(\"\\nAverage of first 6 numbers of Descending ordered numbers:\", avg_first_six_desc)"
      ]
    },
    {
      "cell_type": "markdown",
      "metadata": {
        "id": "1F_PZdH9Sh49"
      },
      "source": [
        "# Question 3 (20 points).\n",
        "\n",
        "Create a Python program that encompasses various string manipulation task:\n",
        "\n",
        "(a) Prompt the user to input two sentences.\n",
        "\n",
        "(b) Transform each sentence into a list, where each element corresponds to a word in the sentence. For example, if the sentences are \"Hello, how are you doing today?\" and \"This is an example sentence for the program!\"\n",
        "\n",
        "The program should output:\n",
        "['Hello', ',', 'how', 'are', 'you', 'doing', 'today', '?', 'This', 'is', 'an', 'example', 'sentence', 'for', 'the', 'program', '!']\n",
        "\n",
        "(c) Compare the two sentences. Print out a list of words that occur in both sentences.\n",
        "\n",
        "(d) Remove any punctuation from the sentence and print the sanitized sentences. It should remove at least the following characters, but it can remove more: period(“.”), comma (“,”), semicolon (“;”), and colon (“:”).\n",
        "\n",
        "(e) Count the number of vowels in each of the sentences. Print out each vowel and the occurrences  in the each of the two sentences separately, such as:\n",
        "\n",
        "Sentence1: a:2, e:2, i:0, etc.\n",
        "Sentence2: a:1, e:2, i:2, etc.\n",
        "\n",
        "Design a well-structured Python program to execute these tasks efficiently."
      ]
    },
    {
      "cell_type": "code",
      "execution_count": 57,
      "metadata": {
        "id": "Y0oOSlsOS0cq",
        "colab": {
          "base_uri": "https://localhost:8080/"
        },
        "outputId": "003e47f0-159f-400c-e82e-9e93edde3bde"
      },
      "outputs": [
        {
          "output_type": "stream",
          "name": "stdout",
          "text": [
            "Enter the 1st sentence: Hello ! My name is Praveen Reddy Kadasani .\n",
            "\n",
            "Enter the 2nd sentence: Hai , My name is Ravi .  How are you Praveen ?\n",
            "\n",
            "Splitted Sentence 1: ['Hello', '!', 'My', 'name', 'is', 'Praveen', 'Reddy', 'Kadasani', '.']\n",
            "\n",
            "Splitted Sentence 2: ['Hai', ',', 'My', 'name', 'is', 'Ravi', '.', 'How', 'are', 'you', 'Praveen', '?']\n",
            "\n",
            "Common Words are: ['My', 'name', 'is', 'Praveen', '.']\n",
            "\n",
            "New Sentence 1 is: Hello  My name is Praveen Reddy Kadasani \n",
            "\n",
            "New Sentence 2 is: Hai  My name is Ravi   How are you Praveen \n",
            "\n",
            "Vowel Count in Sentence 1: {'a': 5, 'e': 5, 'i': 2, 'o': 1, 'u': 0}\n",
            "\n",
            "Vowel Count in Sentence 2: {'a': 5, 'e': 4, 'i': 3, 'o': 2, 'u': 1}\n",
            "\n",
            "Vowel Count in Sentence 1 (Case sensitive): {'A': 0, 'E': 0, 'I': 0, 'O': 0, 'U': 0, 'a': 5, 'e': 5, 'i': 2, 'o': 1, 'u': 0}\n",
            "\n",
            "Vowel Count in Sentence 2 (Case sensitive): {'A': 0, 'E': 0, 'I': 0, 'O': 0, 'U': 0, 'a': 5, 'e': 4, 'i': 3, 'o': 2, 'u': 1}\n"
          ]
        }
      ],
      "source": [
        "# Your code here\n",
        "\n",
        "import string\n",
        "\n",
        "def split_into_words(sentence):\n",
        "    # Splitting sentence into a list of words and punctuation\n",
        "    words = sentence.split()\n",
        "    return words\n",
        "\n",
        "def remove_punct(sentence):\n",
        "    # Removing punctuation from sentence\n",
        "    punct = set(string.punctuation)\n",
        "    sanitized_sentence = ''.join(char for char in sentence if char not in punct)\n",
        "    return sanitized_sentence\n",
        "\n",
        "def count_vowels1(sentence):\n",
        "    # Count the occurrences of each vowel in the sentence\n",
        "    vowels = \"aeiou\"\n",
        "    sentence_lower = sentence.lower()\n",
        "    vowel_count = {vowel: sentence_lower.count(vowel) for vowel in vowels}\n",
        "    return vowel_count\n",
        "\n",
        "\n",
        "def count_vowels2(sentence):\n",
        "    # Count the occurrences of each vowel in the sentence (case-insensitive)\n",
        "    vowels = \"AEIOUaeiou\"\n",
        "    vowel_count = {vowel: sentence.count(vowel) for vowel in vowels}\n",
        "    return vowel_count\n",
        "\n",
        "try:\n",
        "    # Ask the user to give two input sentences\n",
        "    sentence1 = input(\"Enter the 1st sentence: \")\n",
        "    sentence2 = input(\"\\nEnter the 2nd sentence: \")\n",
        "\n",
        "    # splitting sentence into a list of words\n",
        "    words1 = split_into_words(sentence1)\n",
        "    words2 = split_into_words(sentence2)\n",
        "\n",
        "    # printing the words\n",
        "    print(\"\\nSplitted Sentence 1:\", words1)\n",
        "    print(\"\\nSplitted Sentence 2:\", words2)\n",
        "\n",
        "    # Comparing the two sentences\n",
        "    common_words = [word for word in words1 if word in words2]\n",
        "    print(\"\\nCommon Words are:\", common_words)\n",
        "\n",
        "    # Removing punctuations from the sentences\n",
        "    Rem_punct_sentence1 = remove_punct(sentence1)\n",
        "    Rem_punct_sentence2 = remove_punct(sentence2)\n",
        "\n",
        "    print(\"\\nNew Sentence 1 is:\", Rem_punct_sentence1)\n",
        "    print(\"\\nNew Sentence 2 is:\", Rem_punct_sentence2)\n",
        "\n",
        "    # Counting no.of vowels in each sentence\n",
        "    vowel_count11 = count_vowels1(sentence1)\n",
        "    vowel_count21 = count_vowels1(sentence2)\n",
        "\n",
        "    print(\"\\nVowel Count in Sentence 1:\", vowel_count11)\n",
        "    print(\"\\nVowel Count in Sentence 2:\", vowel_count21)\n",
        "\n",
        "    # counting no.of vowels (case sensitive)\n",
        "    vowel_count12 = count_vowels2(sentence1)\n",
        "    vowel_count22 = count_vowels2(sentence2)\n",
        "\n",
        "    print(\"\\nVowel Count in Sentence 1 (Case sensitive):\", vowel_count12)\n",
        "    print(\"\\nVowel Count in Sentence 2 (Case sensitive):\", vowel_count22)\n",
        "\n",
        "except Exception as e:\n",
        "    print(f\"\\nAn error occurred: {e}\")"
      ]
    },
    {
      "cell_type": "markdown",
      "source": [
        "# Question 4 (20 Points)"
      ],
      "metadata": {
        "id": "OP4-5qxAtInv"
      }
    },
    {
      "cell_type": "markdown",
      "source": [
        "Design and implement a simple command-line calculator program. The program should handle both integers and floating-point numbers.\n",
        "\n",
        "(a) Write program that takes a mathematical expression as input and evaluates it. The program should support addition, subtraction, multiplication, and division.\n",
        "\n",
        "(b) Extend the calculator to handle parentheses in mathematical expressions. Implement the necessary logic to evaluate expressions with nested parentheses.\n",
        "\n",
        "(c) Enhance your calculator to include additional mathematical operations such as exponentiation, square root, and modulus.\n",
        "\n",
        "(d) Implement error handling in the calculator program. Handle cases such as division by zero and invalid input expressions. Provide meaningful error messages.\n",
        "\n",
        "(e) Implement a command to exit the calculator."
      ],
      "metadata": {
        "id": "uzN4_hDptK9U"
      }
    },
    {
      "cell_type": "code",
      "source": [
        "# Your code here\n",
        "\n",
        "import math\n",
        "\n",
        "def eval_exp(expression):\n",
        "    try:\n",
        "        return eval(expression)\n",
        "    except ZeroDivisionError:\n",
        "        return \"Error: Division by zero not possible\"\n",
        "    except SyntaxError:\n",
        "        return \"Error: Invalid expression\"\n",
        "\n",
        "def main():\n",
        "    print(\"Welcome to the Command Line Calculator!\")\n",
        "    print(\"\\nType 'exit' to quit(exit).\")\n",
        "\n",
        "    while True:\n",
        "        expression = input(\"\\nEnter a mathematical expression: \")\n",
        "\n",
        "        if expression.lower() == 'exit':\n",
        "            print(\"\\nExiting. Goodbye!\")\n",
        "            break\n",
        "\n",
        "        result = eval_exp(expression)\n",
        "        print(\"\\nResult:\", result)\n",
        "\n",
        "if __name__ == \"__main__\":\n",
        "    main()"
      ],
      "metadata": {
        "id": "8nQnVxjJuYtu",
        "colab": {
          "base_uri": "https://localhost:8080/"
        },
        "outputId": "60687874-2f05-44f7-f330-428a8bdb7b03"
      },
      "execution_count": 54,
      "outputs": [
        {
          "output_type": "stream",
          "name": "stdout",
          "text": [
            "Welcome to the Command Line Calculator!\n",
            "\n",
            "Type 'exit' to quit(exit).\n",
            "\n",
            "Enter a mathematical expression: 23 * (34 / 5) * ( 2 - 9 )\n",
            "\n",
            "Result: -1094.8\n",
            "\n",
            "Enter a mathematical expression: 57 / 0\n",
            "\n",
            "Result: Error: Division by zero not possible\n",
            "\n",
            "Enter a mathematical expression: exit\n",
            "\n",
            "Exiting. Goodbye!\n"
          ]
        }
      ]
    },
    {
      "cell_type": "markdown",
      "metadata": {
        "id": "z3tBE7E-Xn5X"
      },
      "source": [
        "# Question 5 (30 points).\n",
        "\n",
        "In the field of Data Science, data is often formatted as a comma-delimited (CSV) file, where each line in a file corresponds to a field's value. Refer to Chapter 9 (p. 106) for more information on comma-delimited files.\n",
        "\n",
        "To answer this question, you will need to download the file [Assignment1_denton_housing.csv](https://raw.githubusercontent.com/unt-iialab/info5731-spring2022/main/assignments/Assignment1_denton_housing.csv) included with this assignment. The file contains statistics about housing in the city of Denton from 2008 to 2014. Write a program to implement the following questions.\n",
        "\n",
        "(a) (5 pts) Calculate the difference in the number of Occupied Housing Units from year to year and print it. The difference must be calculated for the consecutive years such as 2008-2009, 2009-2010 etc. Finally, print the values in the ascending order.\n",
        "\n",
        "(b) (5 pts) For all the years, calculate the percentage of housing units which are vacant an occupied. Print the results in the following format:\n",
        "\n",
        "Year Vacant Housing Units Occupied Housing Units\n",
        "\n",
        "    2008  30%   70%                          \n",
        "\t2009 ----- -----\n",
        "\t2010 ----- -----\n",
        "    2011 ----- -----\n",
        "\t2012 ----- -----\n",
        "    2013 ----- -----\n",
        "\t2014 ----- -----\n",
        "  \n",
        "  \n",
        "\n",
        "(c) (10 pts) Calculate and print the valued and years in which the highest number of housing units were vacant and occupied. Print the results in the following format:  \n",
        "\n",
        "                              Year\tValue\n",
        "\tVacant Housing Units\t  -----   -----\n",
        "\tOccupied Housing Units\t-----   -----\n",
        "\n",
        "(d) (10 pts) Calculate the harmonic mean of the total housing units and print it out. You can find the information about harmonic mean here: https://ncalculators.com/statistics/harmonic-mean-calculator.htm"
      ]
    },
    {
      "cell_type": "code",
      "execution_count": 56,
      "metadata": {
        "id": "lqGYuHBhcsRH",
        "colab": {
          "base_uri": "https://localhost:8080/"
        },
        "outputId": "fd3ba21a-3937-45d1-9578-71cd19d3f28c"
      },
      "outputs": [
        {
          "output_type": "stream",
          "name": "stdout",
          "text": [
            "Difference in the no.of Occupied Housing Units from year to year is:\n",
            "17    -795.0\n",
            "14    5091.0\n",
            "11    -303.0\n",
            "8     1404.0\n",
            "5     1565.0\n",
            "2     2622.0\n",
            "Name: value, dtype: float64\n",
            "\n",
            "Percentage of housing units that are vacant and occupied:\n",
            "\n",
            "Year     Vacant       Occupied\n",
            "2014     5.73%         94.27%\n",
            "2013     8.80%         91.20%\n",
            "2012     6.68%         93.32%\n",
            "2011     9.38%         90.62%\n",
            "2010     8.14%         91.86%\n",
            "2009     9.07%         90.93%\n",
            "2008     10.88%         89.12%\n",
            "\n",
            "Years and values with the highest number of housing units:\n",
            "\n",
            "                         Year     Value\n",
            "Vacant Housing Units     2008     4483\n",
            "Occupied Housing Units   2014     46295\n",
            "\n",
            "Harmonic mean of the total housing units is:\n",
            "44398.28543969185\n"
          ]
        }
      ],
      "source": [
        " # Your code here\n",
        "\n",
        "\n",
        "import pandas as pd\n",
        "\n",
        "# Reading the dataset\n",
        "df = pd.read_csv('/content/Assignment1_denton_housing.csv')\n",
        "\n",
        "# Calculating the difference in no.of Occupied Housing Units from year to year\n",
        "occp_diff = df[df['title_field'] == 'Occupied Housing Units'].sort_values(by='year')['value'].diff().dropna()\n",
        "\n",
        "print(\"Difference in the no.of Occupied Housing Units from year to year is:\")\n",
        "print(occp_diff)\n",
        "print()\n",
        "\n",
        "# Calculating the % of vacant and occupied housing units for each year\n",
        "total_housing_units = df[df['title_field'] == 'Total Housing Units'].set_index('year')['value']\n",
        "vacant_percentage = df[df['title_field'] == 'Vacant Housing Units'].set_index('year')['value'] / total_housing_units * 100\n",
        "occupied_percentage = df[df['title_field'] == 'Occupied Housing Units'].set_index('year')['value'] / total_housing_units * 100\n",
        "\n",
        "print(\"Percentage of housing units that are vacant and occupied:\")\n",
        "print(\"\\nYear     Vacant       Occupied\")\n",
        "for year in df['year'].unique():\n",
        "    vac = vacant_percentage.get(year, '-')\n",
        "    occ = occupied_percentage.get(year, '-')\n",
        "    if vac != '-':\n",
        "        occ = 100 - vac  # Calculating occupied based on vacant\n",
        "    total = 100  # Total should always be 100%\n",
        "    print(f\"{year}     {vac:.2f}%         {occ:.2f}%\")\n",
        "print()\n",
        "\n",
        "# Finding years and values with the highest no.of vacant and occupied housing units\n",
        "max_vacant = df[df['title_field'] == 'Vacant Housing Units'].sort_values(by='value', ascending=False).iloc[0]\n",
        "max_occupied = df[df['title_field'] == 'Occupied Housing Units'].sort_values(by='value', ascending=False).iloc[0]\n",
        "\n",
        "print(\"Years and values with the highest number of housing units:\")\n",
        "print(\"\\n                         Year     Value\")\n",
        "print(f\"Vacant Housing Units     {max_vacant['year']}     {max_vacant['value']}\")\n",
        "print(f\"Occupied Housing Units   {max_occupied['year']}     {max_occupied['value']}\")\n",
        "print()\n",
        "\n",
        "# Calculating the harmonic mean of total housing units\n",
        "tot_hsg_units = df[df['title_field'] == 'Total Housing Units']['value']\n",
        "harmonic_mean = len(tot_hsg_units) / sum(1 / x for x in tot_hsg_units)\n",
        "\n",
        "print(\"Harmonic mean of the total housing units is:\")\n",
        "print(harmonic_mean)"
      ]
    },
    {
      "cell_type": "markdown",
      "source": [
        "# Mandatory Question\n",
        "\n",
        "Provide your thoughts on the assignment. What did you find challenging, and what aspects did you enjoy? Your opinion on the provided time to complete the assignment. Share any suggestions for improvement. Your feedback will be valuable for enhancing the learning experience."
      ],
      "metadata": {
        "id": "q8BFCvWp32cf"
      }
    },
    {
      "cell_type": "markdown",
      "source": [
        "Overall assignment was good. Question 1 was easy to work and took a reasonale amount of time. Coming to questions 2 and 3 , they were good to make a person think. I got failed more than once while doing these questions. Question number 4 , I tried to do it without inbuilt functions , but got failed several times at step b and c. So I used functions to do that question. Question 5 really tested my patience while loading the dataset. All questions are able to make myself work on functions. The challenging part is question number 4, where I spent a lot of time. I enjoyed working in new tool , previously I used Jupiter notebooks. And provided time was absolutley enough. Assignments like this will help us a lot in practicing.\n"
      ],
      "metadata": {
        "id": "Hbx4A_Ojn988"
      }
    }
  ],
  "metadata": {
    "colab": {
      "provenance": [],
      "include_colab_link": true
    },
    "kernelspec": {
      "display_name": "Python 3 (ipykernel)",
      "language": "python",
      "name": "python3"
    },
    "language_info": {
      "codemirror_mode": {
        "name": "ipython",
        "version": 3
      },
      "file_extension": ".py",
      "mimetype": "text/x-python",
      "name": "python",
      "nbconvert_exporter": "python",
      "pygments_lexer": "ipython3",
      "version": "3.9.12"
    }
  },
  "nbformat": 4,
  "nbformat_minor": 0
}